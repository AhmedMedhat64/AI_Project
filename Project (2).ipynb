{
  "cells": [
    {
      "cell_type": "code",
      "execution_count": null,
      "metadata": {
        "id": "6ZHlxa1Ijw8l"
      },
      "outputs": [],
      "source": [
        "import pandas as pd\n",
        "import numpy as np\n",
        "import seaborn as sns\n",
        "import matplotlib.pyplot as plt"
      ]
    },
    {
      "cell_type": "markdown",
      "metadata": {
        "id": "wjvveUaMHl6b"
      },
      "source": [
        "Import data and process data"
      ]
    },
    {
      "cell_type": "code",
      "execution_count": null,
      "metadata": {
        "id": "tMOdL1NWmc22"
      },
      "outputs": [],
      "source": [
        "# Read the dataset into the dataframe\n",
        "df = pd.read_csv('/content/diabetic_data.csv')"
      ]
    },
    {
      "cell_type": "markdown",
      "metadata": {
        "id": "Pr2mswhQyB-h"
      },
      "source": [
        "## **EDA**"
      ]
    },
    {
      "cell_type": "code",
      "execution_count": null,
      "metadata": {
        "colab": {
          "base_uri": "https://localhost:8080/"
        },
        "id": "OFOf_7gymlwe",
        "outputId": "083d807b-6a3b-40e3-8ed3-f4bd560c3106"
      },
      "outputs": [],
      "source": [
        "df.shape # Check the size of the dataset"
      ]
    },
    {
      "cell_type": "markdown",
      "metadata": {
        "id": "y9lLJjLgL_-B"
      },
      "source": []
    },
    {
      "cell_type": "code",
      "execution_count": null,
      "metadata": {
        "colab": {
          "base_uri": "https://localhost:8080/"
        },
        "collapsed": true,
        "id": "0-nHs4lkm--0",
        "outputId": "64aecbfb-dd8d-435b-8427-49a49a8c46b0"
      },
      "outputs": [],
      "source": [
        "df.info() # Check the overall information"
      ]
    },
    {
      "cell_type": "code",
      "execution_count": null,
      "metadata": {
        "colab": {
          "base_uri": "https://localhost:8080/",
          "height": 1000
        },
        "collapsed": true,
        "id": "QmAz-A-EnhUN",
        "outputId": "533f2ab3-b4bf-496f-d42e-b8407cbc464d"
      },
      "outputs": [],
      "source": [
        "df.isnull().sum() # Check the missing values"
      ]
    },
    {
      "cell_type": "code",
      "execution_count": null,
      "metadata": {
        "colab": {
          "base_uri": "https://localhost:8080/",
          "height": 1000
        },
        "collapsed": true,
        "id": "v_Zj1aGfKWEZ",
        "outputId": "8b0b2d67-85e2-4637-8e95-4f5f20697ea8"
      },
      "outputs": [],
      "source": [
        "import missingno as msno\n",
        "\n",
        "msno.matrix(df)\n",
        "plt.show()\n",
        "\n",
        "msno.heatmap(df)\n",
        "plt.show()"
      ]
    },
    {
      "cell_type": "code",
      "execution_count": null,
      "metadata": {
        "colab": {
          "base_uri": "https://localhost:8080/"
        },
        "id": "NMBw1OZ2nyEO",
        "outputId": "5b677982-704e-4d65-b705-e564813c20f7"
      },
      "outputs": [],
      "source": [
        "df.duplicated().sum() # Check the duplicate values"
      ]
    },
    {
      "cell_type": "code",
      "execution_count": null,
      "metadata": {
        "colab": {
          "base_uri": "https://localhost:8080/"
        },
        "collapsed": true,
        "id": "6ebdkZKLoB-j",
        "outputId": "549d0895-2eaa-43ab-ef35-3fe65c9b7be3"
      },
      "outputs": [],
      "source": [
        "for i in df.select_dtypes(include='object').columns:\n",
        "  print(df[i].value_counts())\n",
        "  print('---' * 10)"
      ]
    },
    {
      "cell_type": "code",
      "execution_count": null,
      "metadata": {
        "colab": {
          "base_uri": "https://localhost:8080/",
          "height": 457
        },
        "collapsed": true,
        "id": "kdykqNIOofN5",
        "outputId": "c8276c80-1193-4ffe-da9f-b70dfa957d5a"
      },
      "outputs": [],
      "source": [
        "df.describe().T # Check the numerical data values"
      ]
    },
    {
      "cell_type": "markdown",
      "metadata": {
        "id": "ju1bRmdjIDII"
      },
      "source": [
        "Numerical data Distribution"
      ]
    },
    {
      "cell_type": "code",
      "execution_count": null,
      "metadata": {
        "colab": {
          "base_uri": "https://localhost:8080/",
          "height": 1000
        },
        "collapsed": true,
        "id": "xjdBbJ_CpB5V",
        "outputId": "6fb86837-f3b1-4da4-ec0c-67da05afa73c"
      },
      "outputs": [],
      "source": [
        "# Histogram to understand the distribution, although i don't get anything 😁\n",
        "for i in df.select_dtypes(include='number').columns:\n",
        "  sns.histplot(data = df, x = i)\n",
        "  plt.show()"
      ]
    },
    {
      "cell_type": "markdown",
      "metadata": {
        "id": "0m7AZLQeHy1x"
      },
      "source": [
        "Age and Gender Count"
      ]
    },
    {
      "cell_type": "code",
      "execution_count": null,
      "metadata": {
        "colab": {
          "base_uri": "https://localhost:8080/",
          "height": 571
        },
        "collapsed": true,
        "id": "Y1yk7CsOsFDW",
        "outputId": "141ce9a8-7887-4d77-bbf7-4d1fcbb6116d"
      },
      "outputs": [],
      "source": [
        "# Age and Gender Count\n",
        "age_count = df[\"age\"].value_counts()\n",
        "gender_count = df[\"gender\"].value_counts()\n",
        "fig, (ax1, ax2) = plt.subplots(1, 2, figsize=(16, 5))\n",
        "age_count.plot(kind='bar', ax=ax1, color='skyblue')\n",
        "gender_count.plot(kind='bar', ax=ax2, color='lightcoral')"
      ]
    },
    {
      "cell_type": "markdown",
      "metadata": {
        "id": "1QL0T8IiHwKe"
      },
      "source": []
    },
    {
      "cell_type": "markdown",
      "metadata": {
        "id": "QBjxsXHJHz4b"
      },
      "source": [
        "Race and Weight Count"
      ]
    },
    {
      "cell_type": "code",
      "execution_count": null,
      "metadata": {
        "colab": {
          "base_uri": "https://localhost:8080/",
          "height": 571
        },
        "collapsed": true,
        "id": "fcInxoa7tx4P",
        "outputId": "789bc3b0-542c-4910-a7e6-0be03a7a2bb8"
      },
      "outputs": [],
      "source": [
        "# Race and Weight Count\n",
        "race_count = df[\"race\"].value_counts()\n",
        "weight_count = df[\"weight\"].value_counts()\n",
        "fig, (ax1, ax2) = plt.subplots(1, 2, figsize=(16, 5))\n",
        "race_count.plot(kind='bar', ax=ax1, color='mediumseagreen')\n",
        "weight_count.plot(kind='bar', ax=ax2, color='goldenrod')"
      ]
    },
    {
      "cell_type": "markdown",
      "metadata": {
        "id": "3D4772qCHvNU"
      },
      "source": [
        "Readmission Rate Count"
      ]
    },
    {
      "cell_type": "code",
      "execution_count": null,
      "metadata": {
        "colab": {
          "base_uri": "https://localhost:8080/",
          "height": 505
        },
        "id": "YzEHokaGq0-l",
        "outputId": "3d63384a-69a2-40ec-cc76-2a4de6d726d3"
      },
      "outputs": [],
      "source": [
        "#Readmission Rate Count\n",
        "target_count = df['readmitted'].value_counts()\n",
        "target_count.plot(kind = 'bar', title= 'Readmission Count')"
      ]
    },
    {
      "cell_type": "code",
      "execution_count": null,
      "metadata": {
        "colab": {
          "base_uri": "https://localhost:8080/",
          "height": 854
        },
        "id": "IZ7v12Ruq4CM",
        "outputId": "371f7a24-de0e-42ec-bbe7-5f8d764fa04f"
      },
      "outputs": [],
      "source": [
        "# correlation heatmap to visualize how strongly numerical featuresare related to each other.\n",
        "corr = df.select_dtypes(include = 'number').corr()\n",
        "plt.figure(figsize=(12,8))\n",
        "sns.heatmap(corr, annot=True, cmap='coolwarm')\n",
        "plt.title('Correlation Heatmap')\n",
        "plt.show()"
      ]
    },
    {
      "cell_type": "code",
      "execution_count": null,
      "metadata": {
        "colab": {
          "base_uri": "https://localhost:8080/"
        },
        "id": "ie9RKJJ81cKn",
        "outputId": "bf19ef59-1046-4075-baca-39e4d7fca196"
      },
      "outputs": [],
      "source": [
        "df.columns # To divide them into diagnosis_cols and"
      ]
    },
    {
      "cell_type": "markdown",
      "metadata": {
        "id": "V37hS9_fJFQG"
      },
      "source": [
        "Diagnosis vs Readmission"
      ]
    },
    {
      "cell_type": "code",
      "execution_count": null,
      "metadata": {
        "colab": {
          "base_uri": "https://localhost:8080/",
          "height": 1000
        },
        "id": "Xl7eaZQp190y",
        "outputId": "ae55d1fd-b473-447d-b308-f77af9de3d23"
      },
      "outputs": [],
      "source": [
        "diagnosis_cols = ['diag_1', 'diag_2', 'diag_3']\n",
        "\n",
        "# Diagnosis vs Readmission\n",
        "for diag in diagnosis_cols:\n",
        "    plt.figure(figsize=(10, 5))\n",
        "    top10 = df[diag].value_counts().iloc[:10].index  # Top 10 frequent diagnoses\n",
        "    sns.countplot(data=df[df[diag].isin(top10)], x=diag, hue='readmitted')\n",
        "    plt.title(f'{diag} vs Readmission')\n",
        "    plt.xticks(rotation=45)\n",
        "    plt.show()"
      ]
    },
    {
      "cell_type": "markdown",
      "metadata": {
        "id": "QSNDHR2vJaoo"
      },
      "source": [
        "Medications vs Readmission"
      ]
    },
    {
      "cell_type": "code",
      "execution_count": null,
      "metadata": {
        "colab": {
          "base_uri": "https://localhost:8080/",
          "height": 1000
        },
        "collapsed": true,
        "id": "TqluVeSK2V_j",
        "outputId": "11ead18b-422a-4911-ee19-a6168f43c9c1"
      },
      "outputs": [],
      "source": [
        "medication_cols = [\n",
        "    'metformin', 'repaglinide', 'nateglinide', 'chlorpropamide',\n",
        "    'glimepiride', 'acetohexamide', 'glipizide', 'glyburide', 'tolbutamide',\n",
        "    'pioglitazone', 'rosiglitazone', 'acarbose', 'miglitol', 'troglitazone',\n",
        "    'tolazamide', 'examide', 'citoglipton', 'insulin',\n",
        "    'glyburide-metformin', 'glipizide-metformin',\n",
        "    'glimepiride-pioglitazone', 'metformin-rosiglitazone',\n",
        "    'metformin-pioglitazone'\n",
        "]\n",
        "\n",
        "# Medications vs Readmission\n",
        "for med in medication_cols:\n",
        "    plt.figure(figsize=(8, 5))\n",
        "    sns.countplot(data=df, x=med, hue='readmitted')\n",
        "    plt.title(f'{med} Usage vs Readmission')\n",
        "    plt.xticks(rotation=45)\n",
        "    plt.show()\n"
      ]
    },
    {
      "cell_type": "markdown",
      "metadata": {
        "id": "QyWmRHnW5lTp"
      },
      "source": [
        "# **Data Processing**"
      ]
    },
    {
      "cell_type": "code",
      "execution_count": null,
      "metadata": {
        "colab": {
          "base_uri": "https://localhost:8080/",
          "height": 1000
        },
        "collapsed": true,
        "id": "stRqkK4W5ueb",
        "outputId": "db0cd879-06ca-4a0f-da55-082f9b2f7309"
      },
      "outputs": [],
      "source": [
        "missing_info = []\n",
        "\n",
        "# Check missing values for object columns\n",
        "for col in df.select_dtypes(include = 'object').columns:\n",
        "        count_missing = df[col][df[col] == '?'].count()\n",
        "        percent_missing = (count_missing / df.shape[0] * 100).round(2)\n",
        "        missing_info.append([col, count_missing, percent_missing])\n",
        "\n",
        "# Create DataFrame from collected missing info\n",
        "missing_value = pd.DataFrame(missing_info, columns=[\"col\", \"count_missing\", \"percent_missing\"])\n",
        "missing_value = missing_value.sort_values(by=\"percent_missing\", ascending=False)\n",
        "\n",
        "missing_value"
      ]
    },
    {
      "cell_type": "code",
      "execution_count": null,
      "metadata": {
        "id": "62-qyZ2d6ry4"
      },
      "outputs": [],
      "source": [
        "# Drop 3 columns with too many missing '?'\n",
        "df.drop(['weight', 'payer_code', 'medical_specialty'], axis=1, inplace=True)\n",
        "\n",
        "# Drop rows based on multiple cleaning conditions:\n",
        "df = df.drop(df[\n",
        "    # Drop if all three diagnosis columns are missing ('?')\n",
        "    ((df['diag_1'] == '?') & (df['diag_2'] == '?') & (df['diag_3'] == '?')) |\n",
        "\n",
        "    # Drop specific 'admission_type_id' values: 5 (Not Available), 6 (NULL), 8 (Not Mapped)\n",
        "    (df['admission_type_id'].isin([5, 6, 8])) |\n",
        "\n",
        "    # Drop 'discharge_disposition_id' values indicating death or irrelevant outcomes\n",
        "    (df['discharge_disposition_id'].isin([11, 13, 14, 18, 19, 20, 21, 25, 26])) |\n",
        "\n",
        "    # Drop 'admission_source_id' values that are unavailable, NULL, or not mapped\n",
        "    (df['admission_source_id'].isin([9, 15, 17, 20, 21]))\n",
        "].index)\n"
      ]
    },
    {
      "cell_type": "code",
      "execution_count": null,
      "metadata": {
        "colab": {
          "base_uri": "https://localhost:8080/"
        },
        "id": "LyGU9KV28tzM",
        "outputId": "119fa212-bdf2-4c96-8cf5-19c34166c7e6"
      },
      "outputs": [],
      "source": [
        "df.shape # Check th dimension now"
      ]
    },
    {
      "cell_type": "code",
      "execution_count": null,
      "metadata": {
        "id": "VSg2keZX_NHk"
      },
      "outputs": [],
      "source": [
        "# Drop missing values in gender\n",
        "df = df.drop(set(df['gender'][df['gender'] == 'Unknown/Invalid'].index))\n",
        "\n",
        "# Drop missing values in race\n",
        "df = df.drop(set(df['race'][df['race']=='?'].index))"
      ]
    },
    {
      "cell_type": "code",
      "execution_count": null,
      "metadata": {
        "colab": {
          "base_uri": "https://localhost:8080/"
        },
        "id": "Ygy7AcWLAMQe",
        "outputId": "a7242c4b-975f-4447-c11b-32132b5d5c18"
      },
      "outputs": [],
      "source": [
        "df.shape # Check th dimension now"
      ]
    },
    {
      "cell_type": "code",
      "execution_count": null,
      "metadata": {
        "id": "C5G9YjdfCbPQ"
      },
      "outputs": [],
      "source": [
        "# Drop irrelevant variables\n",
        "df = df.drop([\"encounter_id\",\"patient_nbr\"],axis=1)\n",
        "df = df.drop([\"citoglipton\",\"examide\"],axis = 1)"
      ]
    },
    {
      "cell_type": "code",
      "execution_count": null,
      "metadata": {
        "colab": {
          "base_uri": "https://localhost:8080/"
        },
        "id": "s6Sj32TlCk0K",
        "outputId": "0780d0e7-ff39-4d0a-da16-5162cd04cadb"
      },
      "outputs": [],
      "source": [
        "df.shape # Check th dimension now"
      ]
    },
    {
      "cell_type": "code",
      "execution_count": null,
      "metadata": {
        "colab": {
          "base_uri": "https://localhost:8080/",
          "height": 209
        },
        "id": "6LoBf9pbKRDg",
        "outputId": "d1bb037f-e1c0-4e82-9dec-a98cfff29751"
      },
      "outputs": [],
      "source": [
        "df['readmitted'].value_counts() # Just to check the difference"
      ]
    },
    {
      "cell_type": "code",
      "execution_count": null,
      "metadata": {
        "colab": {
          "base_uri": "https://localhost:8080/",
          "height": 1000
        },
        "id": "afQ_tDIzMBuK",
        "outputId": "d00fc356-1eda-4379-c941-c6c08aabbef7"
      },
      "outputs": [],
      "source": [
        "df.isnull().sum()"
      ]
    },
    {
      "cell_type": "code",
      "execution_count": null,
      "metadata": {
        "id": "58qQ1syuNIVq"
      },
      "outputs": [],
      "source": [
        "# Drop max_glu_serum because it's almost entirely missing\n",
        "df.drop('max_glu_serum', axis=1, inplace=True)\n",
        "\n",
        "# Fill A1Cresult missing values with 'None'\n",
        "df['A1Cresult'] = df['A1Cresult'].fillna('None')"
      ]
    },
    {
      "cell_type": "code",
      "execution_count": null,
      "metadata": {
        "colab": {
          "base_uri": "https://localhost:8080/"
        },
        "id": "qiSpBEjyNLB6",
        "outputId": "d0568bdb-490a-4c03-9c32-b0dc0263a8c2"
      },
      "outputs": [],
      "source": [
        "df.shape # Check th dimension now"
      ]
    },
    {
      "cell_type": "markdown",
      "metadata": {
        "id": "HnoeIIWTpEGq"
      },
      "source": [
        " Decode ID Columns Using Mapping:"
      ]
    },
    {
      "cell_type": "code",
      "execution_count": null,
      "metadata": {
        "id": "s3LHYHQ1Pat8"
      },
      "outputs": [],
      "source": [
        "# Decoding IDs using mapping file\n",
        "admission_type_map = {\n",
        "    1: 'Emergency',\n",
        "    2: 'Urgent',\n",
        "    3: 'Elective',\n",
        "    4: 'Newborn',\n",
        "    7: 'Trauma Center',\n",
        "}\n",
        "\n",
        "discharge_disposition_map = {\n",
        "    1: 'Discharged to home',\n",
        "    2: 'Discharged/transferred to another short term hospital',\n",
        "    3: 'Discharged/transferred to SNF',\n",
        "    4: 'Discharged/transferred to ICF',\n",
        "    5: 'Discharged/transferred to another type of inpatient care institution',\n",
        "    6: 'Discharged/transferred to home with home health service',\n",
        "    7: 'Left AMA',\n",
        "    8: 'Discharged/transferred to home under care of Home IV provider',\n",
        "    9: 'Admitted as an inpatient to this hospital',\n",
        "    10: 'Neonate discharged to another hospital for neonatal aftercare',\n",
        "    12: 'Still patient or expected to return for outpatient services',\n",
        "    15: 'Discharged/transferred within this institution to Medicare approved swing bed',\n",
        "    16: 'Discharged/transferred/referred another institution for outpatient services',\n",
        "    17: 'Discharged/transferred to a psychiatric hospital of psychiatric distinct part unit of a hospital',\n",
        "    22: 'Discharged/transferred to another rehab facility including rehab units of a hospital',\n",
        "    23: 'Discharged/transferred to a long term care hospital',\n",
        "    24: 'Discharged/transferred to a nursing facility certified under Medicaid but not certified under Medicare',\n",
        "}\n",
        "\n",
        "admission_source_map = {\n",
        "    1: 'Physician Referral',\n",
        "    2: 'Clinic Referral',\n",
        "    3: 'HMO Referral',\n",
        "    4: 'Transfer from a hospital',\n",
        "    5: 'Transfer from a Skilled Nursing Facility (SNF)',\n",
        "    6: 'Transfer from another health care facility',\n",
        "    7: 'Emergency Room',\n",
        "    8: 'Court/Law Enforcement',\n",
        "    10: 'Transfer from critical access hospital',\n",
        "    11: 'Normal Delivery',\n",
        "    12: 'Premature Delivery',\n",
        "    13: 'Sick Baby',\n",
        "    14: 'Extramural Birth',\n",
        "}\n",
        "\n",
        "df['admission_type_id'] = df['admission_type_id'].replace(admission_type_map)\n",
        "df['discharge_disposition_id'] = df['discharge_disposition_id'].replace(discharge_disposition_map)\n",
        "df['admission_source_id'] = df['admission_source_id'].replace(admission_source_map)"
      ]
    },
    {
      "cell_type": "code",
      "execution_count": null,
      "metadata": {
        "id": "tY0n2bSRQDod"
      },
      "outputs": [],
      "source": [
        "# Adding some important features\n",
        "df['total_visits'] = df['number_outpatient'] + df['number_emergency'] + df['number_inpatient']\n",
        "df['missing_diag'] = ((df['diag_1'] == '?') | (df['diag_2'] == '?') | (df['diag_3'] == '?')).astype(int)\n",
        "\n",
        "# List of medication columns\n",
        "# Create a new variable to calculate the change of medication dose\n",
        "meds_cols = [\n",
        "    'metformin', 'repaglinide', 'nateglinide', 'chlorpropamide', 'glimepiride', 'glipizide', 'glyburide',\n",
        "    'pioglitazone', 'rosiglitazone', 'acarbose', 'miglitol', 'insulin', 'glyburide-metformin', 'tolazamide',\n",
        "    'metformin-pioglitazone', 'metformin-rosiglitazone', 'glimepiride-pioglitazone',\n",
        "    'glipizide-metformin', 'troglitazone', 'tolbutamide', 'acetohexamide'\n",
        "]\n",
        "\n",
        "# Create new binary columns: 1 if med was changed (up or down), 0 if no change or steady (Some encoding)\n",
        "for col in meds_cols:\n",
        "    new_col = f\"{col}_new\"\n",
        "    df[new_col] = df[col].apply(lambda x: 0 if x in ['No', 'Steady'] else 1)\n",
        "\n",
        "# Sum up all the med changes to create a 'med_change' feature\n",
        "df['med_change'] = df[[f\"{col}_new\" for col in meds_cols]].sum(axis=1)\n",
        "\n",
        "# Drop the temporary binary columns\n",
        "df.drop(columns=[f\"{col}_new\" for col in meds_cols], inplace=True)"
      ]
    },
    {
      "cell_type": "code",
      "execution_count": null,
      "metadata": {
        "colab": {
          "base_uri": "https://localhost:8080/",
          "height": 272
        },
        "id": "KYRiSyvcRClk",
        "outputId": "4a4ac9c4-00cd-4d5e-fe8e-c22119f9f6f1"
      },
      "outputs": [],
      "source": [
        "df['med_change'].value_counts()"
      ]
    },
    {
      "cell_type": "code",
      "execution_count": null,
      "metadata": {
        "colab": {
          "base_uri": "https://localhost:8080/"
        },
        "id": "KIzF-x3qR51S",
        "outputId": "15d3cede-b867-4fc7-df4c-cc1335037e7e"
      },
      "outputs": [],
      "source": [
        "# Recode medication columns: 'No' → 0, all others ('Steady', 'Up', 'Down') → 1\n",
        "for col in meds_cols:\n",
        "    df[col] = df[col].replace({'No': 0, 'Steady': 1, 'Up': 1, 'Down': 1})\n",
        "\n",
        "# Create 'num_med' feature: sum across the medication columns\n",
        "df['num_med'] = df[meds_cols].sum(axis=1)"
      ]
    },
    {
      "cell_type": "code",
      "execution_count": null,
      "metadata": {
        "colab": {
          "base_uri": "https://localhost:8080/",
          "height": 335
        },
        "id": "cg9po1_fSEKq",
        "outputId": "257b2087-3d03-4b9f-ccb6-107bc7246844"
      },
      "outputs": [],
      "source": [
        "df['num_med'].value_counts()"
      ]
    },
    {
      "cell_type": "code",
      "execution_count": null,
      "metadata": {
        "id": "LuYXhzpXSq6t"
      },
      "outputs": [],
      "source": [
        "# calculate the outcome variable readmission\n",
        "df['readmitted'] = df['readmitted'].apply(lambda x: 1 if x == '<30' else 0)"
      ]
    },
    {
      "cell_type": "code",
      "execution_count": null,
      "metadata": {
        "id": "cIxeX_5gS1lP"
      },
      "outputs": [],
      "source": [
        "# Encode Age\n",
        "df['age_num'] = df['age'].str.extract('(\\d+)', expand=False).astype(int) + 5"
      ]
    },
    {
      "cell_type": "code",
      "execution_count": null,
      "metadata": {
        "colab": {
          "base_uri": "https://localhost:8080/",
          "height": 429
        },
        "id": "UuxsI7DvS-bZ",
        "outputId": "8dc1cf9d-b980-4860-e93f-bb66e66f79fd"
      },
      "outputs": [],
      "source": [
        "df['age_num'].value_counts()"
      ]
    },
    {
      "cell_type": "code",
      "execution_count": null,
      "metadata": {
        "colab": {
          "base_uri": "https://localhost:8080/"
        },
        "id": "4lPMf26BUD0g",
        "outputId": "9e79140a-896e-4d96-eeb0-0bb1db715e84"
      },
      "outputs": [],
      "source": [
        "df.columns"
      ]
    },
    {
      "cell_type": "code",
      "execution_count": null,
      "metadata": {
        "id": "-W5GJLlPWKxh"
      },
      "outputs": [],
      "source": [
        "df['high_A1C_flag'] = df['A1Cresult'].isin(['>7', '>8']).astype(int)"
      ]
    },
    {
      "cell_type": "code",
      "execution_count": null,
      "metadata": {
        "id": "XX2XT55qT1TP"
      },
      "outputs": [],
      "source": [
        "from sklearn.preprocessing import LabelEncoder\n",
        "\n",
        "# Label Encode 'race', 'A1Cresult', 'max_glu_serum'\n",
        "label_cols = ['race', 'A1Cresult']\n",
        "\n",
        "# Initialize LabelEncoder\n",
        "le = LabelEncoder()\n",
        "\n",
        "for col in label_cols:\n",
        "    df[col] = le.fit_transform(df[col])"
      ]
    },
    {
      "cell_type": "code",
      "execution_count": null,
      "metadata": {
        "colab": {
          "base_uri": "https://localhost:8080/",
          "height": 489
        },
        "id": "sZbDqxSrXQqI",
        "outputId": "6e09cbbe-8383-4c21-c741-a40bdd2e8236"
      },
      "outputs": [],
      "source": [
        "df['diag_1'].value_counts()"
      ]
    },
    {
      "cell_type": "code",
      "execution_count": null,
      "metadata": {
        "id": "_udccVmsZzyV"
      },
      "outputs": [],
      "source": [
        "# Safe numeric conversion first\n",
        "df['diag_1_num'] = pd.to_numeric(df['diag_1'], errors='coerce')\n",
        "df['diag_2_num'] = pd.to_numeric(df['diag_2'], errors='coerce')\n",
        "df['diag_3_num'] = pd.to_numeric(df['diag_3'], errors='coerce')\n",
        "\n",
        "# Initialize new columns\n",
        "df['diag_1_code'] = 0\n",
        "df['diag_2_code'] = 0\n",
        "df['diag_3_code'] = 0\n",
        "\n",
        "# Mapping for diag_1\n",
        "df.loc[df['diag_1'].astype(str).str.startswith('V'), 'diag_1_code'] = 1\n",
        "df.loc[df['diag_1'].astype(str).str.startswith('E'), 'diag_1_code'] = 2\n",
        "df.loc[((df['diag_1_num'] >= 390) & (df['diag_1_num'] < 460)) | (df['diag_1_num'] == 785), 'diag_1_code'] = 3\n",
        "df.loc[((df['diag_1_num'] >= 460) & (df['diag_1_num'] < 520)) | (df['diag_1_num'] == 786), 'diag_1_code'] = 4\n",
        "df.loc[((df['diag_1_num'] >= 520) & (df['diag_1_num'] < 580)) | (df['diag_1_num'] == 787), 'diag_1_code'] = 5\n",
        "df.loc[(df['diag_1_num'] >= 250) & (df['diag_1_num'] < 251), 'diag_1_code'] = 6\n",
        "df.loc[(df['diag_1_num'] >= 800) & (df['diag_1_num'] < 1000), 'diag_1_code'] = 7\n",
        "df.loc[(df['diag_1_num'] >= 710) & (df['diag_1_num'] < 740), 'diag_1_code'] = 8\n",
        "df.loc[((df['diag_1_num'] >= 580) & (df['diag_1_num'] < 630)) | (df['diag_1_num'] == 788), 'diag_1_code'] = 9\n",
        "df.loc[(df['diag_1_num'] >= 140) & (df['diag_1_num'] < 240), 'diag_1_code'] = 10\n",
        "\n",
        "# Mapping for diag_2\n",
        "df.loc[df['diag_2'].astype(str).str.startswith('V'), 'diag_2_code'] = 1\n",
        "df.loc[df['diag_2'].astype(str).str.startswith('E'), 'diag_2_code'] = 2\n",
        "df.loc[((df['diag_2_num'] >= 390) & (df['diag_2_num'] < 460)) | (df['diag_2_num'] == 785), 'diag_2_code'] = 3\n",
        "df.loc[((df['diag_2_num'] >= 460) & (df['diag_2_num'] < 520)) | (df['diag_2_num'] == 786), 'diag_2_code'] = 4\n",
        "df.loc[((df['diag_2_num'] >= 520) & (df['diag_2_num'] < 580)) | (df['diag_2_num'] == 787), 'diag_2_code'] = 5\n",
        "df.loc[(df['diag_2_num'] >= 250) & (df['diag_2_num'] < 251), 'diag_2_code'] = 6\n",
        "df.loc[(df['diag_2_num'] >= 800) & (df['diag_2_num'] < 1000), 'diag_2_code'] = 7\n",
        "df.loc[(df['diag_2_num'] >= 710) & (df['diag_2_num'] < 740), 'diag_2_code'] = 8\n",
        "df.loc[((df['diag_2_num'] >= 580) & (df['diag_2_num'] < 630)) | (df['diag_2_num'] == 788), 'diag_2_code'] = 9\n",
        "df.loc[(df['diag_2_num'] >= 140) & (df['diag_2_num'] < 240), 'diag_2_code'] = 10\n",
        "\n",
        "# Mapping for diag_3\n",
        "df.loc[df['diag_3'].astype(str).str.startswith('V'), 'diag_3_code'] = 1\n",
        "df.loc[df['diag_3'].astype(str).str.startswith('E'), 'diag_3_code'] = 2\n",
        "df.loc[((df['diag_3_num'] >= 390) & (df['diag_3_num'] < 460)) | (df['diag_3_num'] == 785), 'diag_3_code'] = 3\n",
        "df.loc[((df['diag_3_num'] >= 460) & (df['diag_3_num'] < 520)) | (df['diag_3_num'] == 786), 'diag_3_code'] = 4\n",
        "df.loc[((df['diag_3_num'] >= 520) & (df['diag_3_num'] < 580)) | (df['diag_3_num'] == 787), 'diag_3_code'] = 5\n",
        "df.loc[(df['diag_3_num'] >= 250) & (df['diag_3_num'] < 251), 'diag_3_code'] = 6\n",
        "df.loc[(df['diag_3_num'] >= 800) & (df['diag_3_num'] < 1000), 'diag_3_code'] = 7\n",
        "df.loc[(df['diag_3_num'] >= 710) & (df['diag_3_num'] < 740), 'diag_3_code'] = 8\n",
        "df.loc[((df['diag_3_num'] >= 580) & (df['diag_3_num'] < 630)) | (df['diag_3_num'] == 788), 'diag_3_code'] = 9\n",
        "df.loc[(df['diag_3_num'] >= 140) & (df['diag_3_num'] < 240), 'diag_3_code'] = 10\n",
        "\n",
        "# Optional: Drop intermediate numeric columns if you want\n",
        "df.drop(['diag_1_num', 'diag_2_num', 'diag_3_num'], axis=1, inplace=True)"
      ]
    },
    {
      "cell_type": "code",
      "execution_count": null,
      "metadata": {
        "colab": {
          "base_uri": "https://localhost:8080/",
          "height": 460
        },
        "id": "ij-3tIcGac0F",
        "outputId": "f95ac3d6-45b2-48da-930d-646827d4ba08"
      },
      "outputs": [],
      "source": [
        "df['diag_1_code'].value_counts()"
      ]
    },
    {
      "cell_type": "code",
      "execution_count": null,
      "metadata": {
        "colab": {
          "base_uri": "https://localhost:8080/"
        },
        "id": "vXauPiX1awbn",
        "outputId": "3f89fe58-884f-466b-8fe5-2f2596a6bda2"
      },
      "outputs": [],
      "source": [
        "df.shape"
      ]
    },
    {
      "cell_type": "code",
      "execution_count": null,
      "metadata": {
        "colab": {
          "base_uri": "https://localhost:8080/"
        },
        "id": "N1uSAuYZbYiz",
        "outputId": "bc84cb81-ac6c-44fd-c170-ad523771c0e8"
      },
      "outputs": [],
      "source": [
        "df.columns"
      ]
    },
    {
      "cell_type": "code",
      "execution_count": null,
      "metadata": {
        "colab": {
          "base_uri": "https://localhost:8080/"
        },
        "id": "EvO8kunzdAkh",
        "outputId": "14ffea8e-576b-4aa2-fd14-2d8899c2f513"
      },
      "outputs": [],
      "source": [
        "num_col = list(set(list(df._get_numeric_data().columns))- {'readmitted'})\n",
        "num_col"
      ]
    },
    {
      "cell_type": "code",
      "execution_count": null,
      "metadata": {
        "id": "gk2-WAG7coGu"
      },
      "outputs": [],
      "source": [
        "def standardize(data):\n",
        "    return ((data - np.mean(data, axis = 0)) / np.std(data, axis = 0))\n",
        "# num_col is a list of all numeric features\n",
        "df[num_col] = standardize(df[num_col])"
      ]
    },
    {
      "cell_type": "code",
      "execution_count": null,
      "metadata": {
        "id": "Cceqj8fRd5eP"
      },
      "outputs": [],
      "source": [
        "# Handle outliers for all numerical columns\n",
        "\n",
        "for col in num_col:\n",
        "    Q1 = df[col].quantile(0.25)\n",
        "    Q3 = df[col].quantile(0.75)\n",
        "    IQR = Q3 - Q1\n",
        "    lower_bound = Q1 - 1.5 * IQR\n",
        "    upper_bound = Q3 + 1.5 * IQR\n",
        "\n",
        "    # Clip the outliers\n",
        "    df[col] = df[col].clip(lower=lower_bound, upper=upper_bound)"
      ]
    },
    {
      "cell_type": "code",
      "execution_count": null,
      "metadata": {
        "colab": {
          "base_uri": "https://localhost:8080/"
        },
        "id": "sEDsMr5pd94C",
        "outputId": "e3218dc1-649a-4bcf-9277-0be570ba77d5"
      },
      "outputs": [],
      "source": [
        "df.shape"
      ]
    },
    {
      "cell_type": "code",
      "execution_count": null,
      "metadata": {
        "colab": {
          "base_uri": "https://localhost:8080/"
        },
        "id": "0YFoCnfPeQmP",
        "outputId": "5998b801-ecea-4dd9-e186-1d6247dad548"
      },
      "outputs": [],
      "source": [
        "df.columns"
      ]
    },
    {
      "cell_type": "code",
      "execution_count": null,
      "metadata": {
        "id": "KR-rDWVSech2"
      },
      "outputs": [],
      "source": [
        "# Columns that are categorical (object type) and need encoding\n",
        "cat_cols = df.select_dtypes(include=['object']).columns.tolist()\n",
        "\n",
        "# Apply LabelEncoder to each categorical column\n",
        "le = LabelEncoder()\n",
        "\n",
        "for col in cat_cols:\n",
        "    df[col] = le.fit_transform(df[col].astype(str))"
      ]
    },
    {
      "cell_type": "code",
      "execution_count": null,
      "metadata": {
        "colab": {
          "base_uri": "https://localhost:8080/",
          "height": 178
        },
        "id": "Wr4FcZbpgfI2",
        "outputId": "1dbcef7e-0ee3-4a37-b7fd-797e8d6827ac"
      },
      "outputs": [],
      "source": [
        "df['readmitted'].value_counts()"
      ]
    },
    {
      "cell_type": "code",
      "execution_count": null,
      "metadata": {
        "colab": {
          "base_uri": "https://localhost:8080/",
          "height": 1000
        },
        "id": "CH535EHhgtBR",
        "outputId": "2c771e0f-8853-49d8-d90a-c4ce76fa3ff6"
      },
      "outputs": [],
      "source": [
        "df.isnull().sum() # high_A1C_flag, metformin-rosiglitazone"
      ]
    },
    {
      "cell_type": "code",
      "execution_count": null,
      "metadata": {
        "id": "Hi1j-DTYg5OI"
      },
      "outputs": [],
      "source": [
        "df = df.drop(['metformin-rosiglitazone', 'high_A1C_flag'], axis = 1)"
      ]
    },
    {
      "cell_type": "code",
      "execution_count": null,
      "metadata": {
        "colab": {
          "base_uri": "https://localhost:8080/"
        },
        "id": "-SRc7zwegpcw",
        "outputId": "046dbbad-d5a2-4830-ffb5-1dd69d366590"
      },
      "outputs": [],
      "source": [
        "# Test just see if all of the above came with profit\n",
        "from sklearn.model_selection import train_test_split\n",
        "from sklearn.linear_model import LogisticRegression\n",
        "from sklearn.metrics import accuracy_score, precision_score, recall_score, f1_score, confusion_matrix, classification_report\n",
        "\n",
        "# Split features and target\n",
        "x = df.drop('readmitted', axis=1)\n",
        "y = df['readmitted']\n",
        "\n",
        "# Stratified train-test split\n",
        "x_train, x_test, y_train, y_test = train_test_split(x, y, test_size=0.2, stratify=y, random_state=0)\n",
        "\n",
        "# Combine X and y back together\n",
        "train_df = pd.concat([x_train, y_train], axis=1)\n",
        "test_df = pd.concat([x_test, y_test], axis=1)\n",
        "\n",
        "# Save to CSV\n",
        "train_df.to_csv('train.csv', index=False)\n",
        "test_df.to_csv('test.csv', index=False)\n",
        "\n",
        "# Logistic Regression model\n",
        "model = LogisticRegression(max_iter=1000, class_weight='balanced')\n",
        "model.fit(x_train, y_train)\n",
        "\n",
        "# Predict on test set\n",
        "y_pred = model.predict(x_test)\n",
        "\n",
        "# Evaluation Metrics\n",
        "accuracy = accuracy_score(y_test, y_pred)\n",
        "precision = precision_score(y_test, y_pred)\n",
        "recall = recall_score(y_test, y_pred)\n",
        "f1 = f1_score(y_test, y_pred)\n",
        "conf_matrix = confusion_matrix(y_test, y_pred)\n",
        "report = classification_report(y_test, y_pred)\n",
        "\n",
        "# Print all results\n",
        "print(\"Accuracy:\", accuracy)\n",
        "print(\"Precision:\", precision)\n",
        "print(\"Recall:\", recall)\n",
        "print(\"F1 Score:\", f1)\n",
        "print(\"Confusion Matrix:\\n\", conf_matrix)\n",
        "print(\"\\nClassification Report:\\n\", report)"
      ]
    },
    {
      "cell_type": "code",
      "execution_count": null,
      "metadata": {
        "colab": {
          "base_uri": "https://localhost:8080/"
        },
        "id": "0FvAiO9q2J-Q",
        "outputId": "8332012c-1fbc-4ddd-b3bc-09008c864f79"
      },
      "outputs": [],
      "source": [
        "from sklearn.model_selection import train_test_split\n",
        "from sklearn.ensemble import RandomForestClassifier\n",
        "from sklearn.metrics import (\n",
        "    accuracy_score, precision_score, recall_score,\n",
        "    f1_score, confusion_matrix, classification_report, roc_auc_score\n",
        ")\n",
        "\n",
        "# Step 1: Split features and target\n",
        "X = df.drop('readmitted', axis=1)\n",
        "y = df['readmitted']\n",
        "\n",
        "# Step 2: Stratified Train-Test Split\n",
        "X_train, X_test, y_train, y_test = train_test_split(\n",
        "    X, y, test_size=0.2, stratify=y, random_state=0\n",
        ")\n",
        "\n",
        "# Step 3: Train Random Forest Classifier\n",
        "rf_model = RandomForestClassifier(\n",
        "    n_estimators=100,\n",
        "    class_weight='balanced',\n",
        "    random_state=0\n",
        ")\n",
        "rf_model.fit(X_train, y_train)\n",
        "\n",
        "# Step 4: Predict\n",
        "y_pred = rf_model.predict(X_test)\n",
        "y_pred_proba = rf_model.predict_proba(X_test)[:, 1]  # Needed for ROC-AUC\n",
        "\n",
        "# Step 5: Evaluate the model\n",
        "accuracy = accuracy_score(y_test, y_pred)\n",
        "precision = precision_score(y_test, y_pred)\n",
        "recall = recall_score(y_test, y_pred)\n",
        "f1 = f1_score(y_test, y_pred)\n",
        "roc_auc = roc_auc_score(y_test, y_pred_proba)\n",
        "conf_matrix = confusion_matrix(y_test, y_pred)\n",
        "report = classification_report(y_test, y_pred)\n",
        "\n",
        "# Step 6: Print results\n",
        "print(\"Accuracy:\", accuracy)\n",
        "print(\"Precision:\", precision)\n",
        "print(\"Recall:\", recall)\n",
        "print(\"F1 Score:\", f1)\n",
        "print(\"ROC-AUC Score:\", roc_auc)\n",
        "print(\"Confusion Matrix:\\n\", conf_matrix)\n",
        "print(\"\\nClassification Report:\\n\", report)\n"
      ]
    },
    {
      "cell_type": "code",
      "execution_count": null,
      "metadata": {
        "colab": {
          "base_uri": "https://localhost:8080/",
          "height": 582
        },
        "id": "iYppdeRMydc6",
        "outputId": "1701d3ca-987d-4a59-8c63-109b51bdc437"
      },
      "outputs": [],
      "source": [
        "import matplotlib.pyplot as plt\n",
        "from sklearn.metrics import roc_auc_score, roc_curve\n",
        "#ROC AUC\n",
        "\n",
        "\n",
        "\n",
        "\n",
        "# Predict probabilities for the positive class (class 1)\n",
        "y_pred_proba = rf_model.predict_proba(X_test)[:, 1]\n",
        "\n",
        "# Compute False Positive Rate, True Positive Rate, and thresholds\n",
        "fpr, tpr, thresholds = roc_curve(y_test, y_pred_proba)\n",
        "\n",
        "# Compute ROC AUC\n",
        "roc_auc = roc_auc_score(y_test, y_pred_proba)\n",
        "\n",
        "# Plot ROC Curve\n",
        "plt.figure(figsize=(8, 6))\n",
        "plt.plot(fpr, tpr, label=f'Logistic Regression (AUC = {roc_auc:.2f})', color='blue')\n",
        "plt.plot([0, 1], [0, 1], 'k--', label='Random Guessing')\n",
        "plt.xlabel('False Positive Rate')\n",
        "plt.ylabel('True Positive Rate')\n",
        "plt.title('Receiver Operating Characteristic (ROC) Curve')\n",
        "plt.legend(loc='lower right')\n",
        "plt.grid(True)\n",
        "plt.show()\n",
        "\n",
        "# Print AUC Score\n",
        "print(\"ROC AUC Score:\", roc_auc)\n"
      ]
    },
    {
      "cell_type": "markdown",
      "metadata": {
        "id": "p-TJMZOJML1T"
      },
      "source": [
        "**SMOTE**"
      ]
    },
    {
      "cell_type": "code",
      "execution_count": null,
      "metadata": {
        "colab": {
          "base_uri": "https://localhost:8080/"
        },
        "id": "aQBok9HdMLBx",
        "outputId": "af0ad020-0ddd-4e9b-e6e6-ac469094fecb"
      },
      "outputs": [],
      "source": [
        "from imblearn.over_sampling import SMOTE\n",
        "from sklearn.model_selection import train_test_split\n",
        "from sklearn.ensemble import RandomForestClassifier\n",
        "from sklearn.metrics import classification_report, confusion_matrix\n",
        "\n",
        "# Assume X, y are your features and target (readmission: 0 or 1)\n",
        "\n",
        "# Step 1: Split your dataset\n",
        "x_train, x_test, y_train, y_test = train_test_split(\n",
        "    x, y, test_size=0.2, stratify=y, random_state=42\n",
        ")\n",
        "\n",
        "# Step 2: Apply SMOTE to the training set only\n",
        "smote = SMOTE(random_state=42)\n",
        "x_train_resampled, y_train_resampled = smote.fit_resample(x_train, y_train)\n",
        "\n",
        "print(\"Original dataset shape:\", y_train.value_counts())\n",
        "print(\"Resampled dataset shape:\", y_train_resampled.value_counts())\n"
      ]
    },
    {
      "cell_type": "code",
      "execution_count": null,
      "metadata": {
        "colab": {
          "base_uri": "https://localhost:8080/"
        },
        "id": "3rrVnfeON-zd",
        "outputId": "8129bb47-d575-498f-c29c-79b45ac25f1f"
      },
      "outputs": [],
      "source": [
        "\n",
        "# Step 1: Split features and target\n",
        "X = df.drop('readmitted', axis=1)\n",
        "y = df['readmitted']\n",
        "\n",
        "# Step 2: Stratified Train-Test Split\n",
        "X_train, X_test, y_train, y_test = train_test_split(\n",
        "    X, y, test_size=0.2, stratify=y, random_state=0\n",
        ")\n",
        "\n",
        "# Step 3: Train Random Forest Classifier\n",
        "rf_model = RandomForestClassifier(\n",
        "    n_estimators=100,\n",
        "    class_weight='balanced',\n",
        "    random_state=0\n",
        ")\n",
        "rf_model.fit(x_train_resampled, y_train_resampled)\n",
        "\n",
        "# Step 4: Predict\n",
        "y_pred = rf_model.predict(X_test)\n",
        "y_pred_proba = rf_model.predict_proba(X_test)[:, 1]  # Needed for ROC-AUC\n",
        "\n",
        "# Step 5: Evaluate the model\n",
        "accuracy = accuracy_score(y_test, y_pred)\n",
        "precision = precision_score(y_test, y_pred)\n",
        "recall = recall_score(y_test, y_pred)\n",
        "f1 = f1_score(y_test, y_pred)\n",
        "roc_auc = roc_auc_score(y_test, y_pred_proba)\n",
        "conf_matrix = confusion_matrix(y_test, y_pred)\n",
        "report = classification_report(y_test, y_pred)\n",
        "\n",
        "# Step 6: Print results\n",
        "print(\"Accuracy:\", accuracy)\n",
        "print(\"Precision:\", precision)\n",
        "print(\"Recall:\", recall)\n",
        "print(\"F1 Score:\", f1)\n",
        "print(\"ROC-AUC Score:\", roc_auc)\n",
        "print(\"Confusion Matrix:\\n\", conf_matrix)\n",
        "print(\"\\nClassification Report:\\n\", report)\n"
      ]
    },
    {
      "cell_type": "markdown",
      "metadata": {
        "id": "_CZu4bu6PwxY"
      },
      "source": [
        "True Negatives (TN): 14,577 — non-readmitted correctly predicted.\n",
        "\n",
        "False Positives (FP): 6 — very few non-readmitted misclassified as readmitted.\n",
        "\n",
        "False Negatives (FN): 409 — fewer missed readmitted cases.\n",
        "\n",
        "True Positives (TP): 1,482 — strong correct predictions for readmitted."
      ]
    },
    {
      "cell_type": "code",
      "execution_count": null,
      "metadata": {
        "colab": {
          "base_uri": "https://localhost:8080/",
          "height": 582
        },
        "id": "RnsvwkGIQLNG",
        "outputId": "28ebe40f-2522-4f9e-82e6-04d7c2facb30"
      },
      "outputs": [],
      "source": [
        "import matplotlib.pyplot as plt\n",
        "from sklearn.metrics import roc_auc_score, roc_curve\n",
        "#ROC AUC\n",
        "\n",
        "\n",
        "\n",
        "\n",
        "# Predict probabilities for the positive class (class 1)\n",
        "y_pred_proba = rf_model.predict_proba(X_test)[:, 1]\n",
        "\n",
        "# Compute False Positive Rate, True Positive Rate, and thresholds\n",
        "fpr, tpr, thresholds = roc_curve(y_test, y_pred_proba)\n",
        "\n",
        "# Compute ROC AUC\n",
        "roc_auc = roc_auc_score(y_test, y_pred_proba)\n",
        "\n",
        "# Plot ROC Curve\n",
        "plt.figure(figsize=(8, 6))\n",
        "plt.plot(fpr, tpr, label=f'Logistic Regression (AUC = {roc_auc:.2f})', color='blue')\n",
        "plt.plot([0, 1], [0, 1], 'k--', label='Random Guessing')\n",
        "plt.xlabel('False Positive Rate')\n",
        "plt.ylabel('True Positive Rate')\n",
        "plt.title('Receiver Operating Characteristic (ROC) Curve')\n",
        "plt.legend(loc='lower right')\n",
        "plt.grid(True)\n",
        "plt.show()\n",
        "\n",
        "# Print AUC Score\n",
        "print(\"ROC AUC Score:\", roc_auc)\n"
      ]
    },
    {
      "cell_type": "code",
      "execution_count": null,
      "metadata": {
        "colab": {
          "base_uri": "https://localhost:8080/"
        },
        "id": "LAnrXvz6Rfou",
        "outputId": "af5d266f-4ac8-4c8a-eb61-da67f5842138"
      },
      "outputs": [],
      "source": [
        "from sklearn.metrics import accuracy_score, precision_score, recall_score, f1_score\n",
        "\n",
        "# Fit your model\n",
        "\n",
        "model.fit(x_train_resampled, y_train_resampled)\n",
        "\n",
        "# Predict on training set\n",
        "y_train_pred = model.predict(x_train_resampled)\n",
        "\n",
        "# Predict on test set\n",
        "y_test_pred = model.predict(X_test)\n",
        "\n",
        "# Define a function to print metrics\n",
        "def print_metrics(name, y_true, y_pred):\n",
        "    print(f\"\\n{name} Metrics:\")\n",
        "    print(\"Accuracy :\", accuracy_score(y_true, y_pred))\n",
        "    print(\"Precision:\", precision_score(y_true, y_pred))\n",
        "    print(\"Recall   :\", recall_score(y_true, y_pred))\n",
        "    print(\"F1 Score :\", f1_score(y_true, y_pred))\n",
        "\n",
        "# Compare training and test metrics\n",
        "print_metrics(\"Training\", y_train_resampled, y_train_pred)\n",
        "print_metrics(\"Test\", y_test, y_test_pred)\n"
      ]
    },
    {
      "cell_type": "markdown",
      "metadata": {
        "id": "NKMclPPkhNV-"
      },
      "source": [
        "# Decision Tree"
      ]
    },
    {
      "cell_type": "code",
      "execution_count": null,
      "metadata": {
        "colab": {
          "base_uri": "https://localhost:8080/"
        },
        "id": "gtAwCCQThTRY",
        "outputId": "b3052f14-eea3-4c82-ee8e-92233cf4bd88"
      },
      "outputs": [],
      "source": [
        "from sklearn.tree import DecisionTreeClassifier\n",
        "from sklearn.metrics import accuracy_score, precision_score, recall_score, f1_score, confusion_matrix\n",
        "import matplotlib.pyplot as plt\n",
        "import seaborn as sns\n",
        "import pandas as pd\n",
        "\n",
        "#  Initialize the Decision Tree (ID3-style: uses 'entropy')\n",
        "dtree = DecisionTreeClassifier(\n",
        "    criterion='entropy',\n",
        "     max_depth=4,\n",
        "    class_weight='balanced',\n",
        "    random_state=42\n",
        ")\n",
        "\n",
        "#  Train on SMOTE-resampled training data\n",
        "dtree.fit(x_train_resampled, y_train_resampled)\n",
        "\n",
        "#  Predict on the original test set\n",
        "y_pred = dtree.predict(X_test)\n",
        "\n",
        "#  Evaluation\n",
        "print(\"Accuracy     :\", accuracy_score(y_test, y_pred))\n",
        "print(\"Precision    :\", precision_score(y_test, y_pred))\n",
        "print(\"Recall       :\", recall_score(y_test, y_pred))\n",
        "print(\"F1 Score     :\", f1_score(y_test, y_pred) )\n",
        "\n",
        "\n"
      ]
    },
    {
      "cell_type": "markdown",
      "metadata": {
        "id": "8SJpXCcpjUcS"
      },
      "source": [
        "# Confusion Matrix Visualization : Decision Tree"
      ]
    },
    {
      "cell_type": "code",
      "execution_count": null,
      "metadata": {
        "colab": {
          "base_uri": "https://localhost:8080/",
          "height": 410
        },
        "collapsed": true,
        "id": "ZewU40bNjh80",
        "outputId": "9fc70523-1962-4a72-856f-97d6ba04a52b"
      },
      "outputs": [],
      "source": [
        "cm = confusion_matrix(y_test, y_pred)\n",
        "plt.figure(figsize=(5,4))\n",
        "sns.heatmap(cm, annot=True, fmt='d', cmap='Blues')\n",
        "plt.xlabel('Predicted')\n",
        "plt.ylabel('Actual')\n",
        "plt.title('Confusion Matrix (Decision Tree)')\n",
        "plt.show()"
      ]
    },
    {
      "cell_type": "markdown",
      "metadata": {
        "id": "PBMNIbhKjsM1"
      },
      "source": [
        "# Feature Importance Bar chart : Decision Tree\n"
      ]
    },
    {
      "cell_type": "code",
      "execution_count": null,
      "metadata": {
        "colab": {
          "base_uri": "https://localhost:8080/",
          "height": 607
        },
        "collapsed": true,
        "id": "_737dkv0jz63",
        "outputId": "45146310-070e-44c5-a2d5-bca9e40be1a7"
      },
      "outputs": [],
      "source": [
        "feature_importance = pd.DataFrame({\n",
        "    'Feature': x_train_resampled.columns,\n",
        "    'Importance': dtree.feature_importances_\n",
        "}).sort_values(by='Importance', ascending=False).head(10)\n",
        "\n",
        "plt.figure(figsize=(10,6))\n",
        "sns.barplot(data=feature_importance, x='Importance', y='Feature')\n",
        "plt.title('Top 10 Important Features - Decision Tree')\n",
        "plt.xlabel('Importance')\n",
        "plt.ylabel('Feature')\n",
        "plt.tight_layout()\n",
        "plt.show()"
      ]
    },
    {
      "cell_type": "markdown",
      "metadata": {
        "id": "z2UUd8EZl1Sv"
      },
      "source": [
        "# Tree Visualization"
      ]
    },
    {
      "cell_type": "code",
      "execution_count": null,
      "metadata": {
        "colab": {
          "base_uri": "https://localhost:8080/",
          "height": 678
        },
        "id": "Ug-_TwcFl5s4",
        "outputId": "8b2b0625-3bfc-4185-ef54-e285d10592cb"
      },
      "outputs": [],
      "source": [
        "from sklearn.tree import plot_tree\n",
        "\n",
        "plt.figure(figsize=(20, 10))\n",
        "plot_tree(dtree,\n",
        "          filled=True,\n",
        "          feature_names=x_train_resampled.columns,\n",
        "          class_names=['Not Readmitted', 'Readmitted'],\n",
        "          rounded=True,\n",
        "          fontsize=10)\n",
        "plt.title(\"Decision Tree Visualization\")\n",
        "plt.show()"
      ]
    }
  ],
  "metadata": {
    "colab": {
      "provenance": []
    },
    "kernelspec": {
      "display_name": "Python 3",
      "name": "python3"
    },
    "language_info": {
      "codemirror_mode": {
        "name": "ipython",
        "version": 3
      },
      "file_extension": ".py",
      "mimetype": "text/x-python",
      "name": "python",
      "nbconvert_exporter": "python",
      "pygments_lexer": "ipython3",
      "version": "3.13.1"
    }
  },
  "nbformat": 4,
  "nbformat_minor": 0
}
